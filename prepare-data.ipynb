{
 "cells": [
  {
   "cell_type": "code",
   "execution_count": 1,
   "metadata": {},
   "outputs": [],
   "source": [
    "import pandas as pd\n",
    "import numpy as np\n",
    "import os\n",
    "import shutil\n",
    "import feather\n",
    "import matplotlib.pyplot as plt\n",
    "from tqdm import tqdm"
   ]
  },
  {
   "cell_type": "code",
   "execution_count": 2,
   "metadata": {},
   "outputs": [],
   "source": [
    "IMG_SOURCE_PATH = \"/local_scratch/wamsterd/data/lidc/allnods2D/\"\n",
    "IMG_DEST_PATH = \"/local_scratch/wamsterd/git/lidc-representation/data\"\n",
    "\n",
    "DF_PATH = os.path.join(\"resources\", \"annotation_df.feather\")\n",
    "FILE_EXT = \".png\""
   ]
  },
  {
   "cell_type": "code",
   "execution_count": 3,
   "metadata": {},
   "outputs": [],
   "source": [
    "df_ann = feather.read_dataframe(DF_PATH)"
   ]
  },
  {
   "cell_type": "code",
   "execution_count": 4,
   "metadata": {},
   "outputs": [
    {
     "name": "stdout",
     "output_type": "stream",
     "text": [
      "(6859, 16)\n",
      "  annotation_id  calcification  internalstructure  lobulation  malignancy  \\\n",
      "0             2              6                  1           1           3   \n",
      "1             6              6                  1           2           4   \n",
      "2            10              6                  1           4           5   \n",
      "3            13              6                  1           2           3   \n",
      "4             1              6                  1           1           3   \n",
      "\n",
      "   margin nodule_id  nodule_number      patient_id scan_id  sphericity  \\\n",
      "0       4         4            1.0  LIDC-IDRI-0078       1           4   \n",
      "1       2     12329            1.0  LIDC-IDRI-0078       1           4   \n",
      "2       4     16317            1.0  LIDC-IDRI-0078       1           4   \n",
      "3       3      2054            1.0  LIDC-IDRI-0078       1           4   \n",
      "4       4         3            2.0  LIDC-IDRI-0078       1           3   \n",
      "\n",
      "   spiculation  sublety  texture patient_number nodule_idx  \n",
      "0            2        4        5           0078     007801  \n",
      "1            1        4        5           0078     007801  \n",
      "2            4        5        5           0078     007801  \n",
      "3            2        5        4           0078     007801  \n",
      "4            1        5        5           0078     007802  \n"
     ]
    }
   ],
   "source": [
    "print(df_ann.shape)\n",
    "print(df_ann.head())"
   ]
  },
  {
   "cell_type": "code",
   "execution_count": 5,
   "metadata": {},
   "outputs": [
    {
     "name": "stdout",
     "output_type": "stream",
     "text": [
      "(6804, 16)\n"
     ]
    }
   ],
   "source": [
    "# check available imgs\n",
    "source_img_fnames = os.listdir(IMG_SOURCE_PATH)\n",
    "source_img_idx = [x[:-(len(FILE_EXT))] for x in source_img_fnames]\n",
    "df_ann = df_ann[df_ann.nodule_idx.isin(source_img_idx)]\n",
    "print(df_ann.shape)"
   ]
  },
  {
   "cell_type": "code",
   "execution_count": 6,
   "metadata": {},
   "outputs": [
    {
     "name": "stdout",
     "output_type": "stream",
     "text": [
      "  nodule_idx  nodule_number      patient_id scan_id patient_number  \\\n",
      "0     000101            1.0  LIDC-IDRI-0001      12           0001   \n",
      "1     000201            1.0  LIDC-IDRI-0002      13           0002   \n",
      "2     000301            1.0  LIDC-IDRI-0003      14           0003   \n",
      "3     000302            2.0  LIDC-IDRI-0003      14           0003   \n",
      "4     000303            3.0  LIDC-IDRI-0003      14           0003   \n",
      "\n",
      "   spiculation_median  spiculation_mean  spiculation_min  spiculation_max  \\\n",
      "0                 4.5              4.25                3                5   \n",
      "1                 1.0              1.00                1                1   \n",
      "2                 1.0              1.00                1                1   \n",
      "3                 2.5              3.00                2                5   \n",
      "4                 1.5              1.50                1                2   \n",
      "\n",
      "   spiculation_var  n_annotations_count  \n",
      "0         0.916667                    4  \n",
      "1         0.000000                    2  \n",
      "2              NaN                    1  \n",
      "3         2.000000                    4  \n",
      "4         0.333333                    4  \n",
      "(2630, 11)\n"
     ]
    }
   ],
   "source": [
    "group_vars = [\"nodule_idx\", \"nodule_number\", \"patient_id\", \"scan_id\", \"patient_number\"]\n",
    "df = df_ann.groupby(group_vars, as_index = False).agg(\n",
    "    {'spiculation': ['median', 'mean', 'min', 'max', 'var'], \n",
    "     \"annotation_id\": 'count'}).rename(columns = {'annotation_id':'n_annotations'})\n",
    "new_colnames = [\"_\".join(x).strip() for x in df.columns.values]\n",
    "new_colnames = [x.rstrip(\"_\") for x in new_colnames]\n",
    "df.columns = new_colnames\n",
    "\n",
    "print(df.head())\n",
    "print(df.shape)"
   ]
  },
  {
   "cell_type": "code",
   "execution_count": 7,
   "metadata": {},
   "outputs": [
    {
     "data": {
      "text/plain": [
       "(array([1648.,  375.,  211.,  115.,   31.,  108.,   42.,   47.,   23.,\n",
       "          30.]),\n",
       " array([1. , 1.4, 1.8, 2.2, 2.6, 3. , 3.4, 3.8, 4.2, 4.6, 5. ]),\n",
       " <a list of 10 Patch objects>)"
      ]
     },
     "execution_count": 7,
     "metadata": {},
     "output_type": "execute_result"
    },
    {
     "data": {
      "image/png": "[encoded data removed]",
      "text/plain": [
       "<Figure size 432x288 with 1 Axes>"
      ]
     },
     "metadata": {
      "needs_background": "light"
     },
     "output_type": "display_data"
    }
   ],
   "source": [
    "plt.hist(df.spiculation_mean)"
   ]
  },
  {
   "cell_type": "code",
   "execution_count": 8,
   "metadata": {},
   "outputs": [],
   "source": [
    "df[\"label\"] = (df.spiculation_mean >= 2).astype(int)\n",
    "df[\"id\"] = df.nodule_idx\n",
    "ids = df.id"
   ]
  },
  {
   "cell_type": "code",
   "execution_count": 9,
   "metadata": {},
   "outputs": [
    {
     "data": {
      "text/html": [
       "<div>\n",
       "<style scoped>\n",
       "    .dataframe tbody tr th:only-of-type {\n",
       "        vertical-align: middle;\n",
       "    }\n",
       "\n",
       "    .dataframe tbody tr th {\n",
       "        vertical-align: top;\n",
       "    }\n",
       "\n",
       "    .dataframe thead th {\n",
       "        text-align: right;\n",
       "    }\n",
       "</style>\n",
       "<table border=\"1\" class=\"dataframe\">\n",
       "  <thead>\n",
       "    <tr style=\"text-align: right;\">\n",
       "      <th></th>\n",
       "      <th>nodule_idx</th>\n",
       "      <th>nodule_number</th>\n",
       "      <th>patient_id</th>\n",
       "      <th>scan_id</th>\n",
       "      <th>patient_number</th>\n",
       "      <th>spiculation_median</th>\n",
       "      <th>spiculation_mean</th>\n",
       "      <th>spiculation_min</th>\n",
       "      <th>spiculation_max</th>\n",
       "      <th>spiculation_var</th>\n",
       "      <th>n_annotations_count</th>\n",
       "      <th>label</th>\n",
       "      <th>id</th>\n",
       "      <th>split</th>\n",
       "      <th>out_name</th>\n",
       "      <th>out_dir</th>\n",
       "      <th>orig_path</th>\n",
       "    </tr>\n",
       "  </thead>\n",
       "  <tbody>\n",
       "    <tr>\n",
       "      <th>0</th>\n",
       "      <td>000101</td>\n",
       "      <td>1.0</td>\n",
       "      <td>LIDC-IDRI-0001</td>\n",
       "      <td>12</td>\n",
       "      <td>0001</td>\n",
       "      <td>4.5</td>\n",
       "      <td>4.25</td>\n",
       "      <td>3</td>\n",
       "      <td>5</td>\n",
       "      <td>0.916667</td>\n",
       "      <td>4</td>\n",
       "      <td>1</td>\n",
       "      <td>000101</td>\n",
       "      <td>train</td>\n",
       "      <td>000101.png</td>\n",
       "      <td>train/000101.png</td>\n",
       "      <td>/local_scratch/wamsterd/data/lidc/allnods2D/00...</td>\n",
       "    </tr>\n",
       "    <tr>\n",
       "      <th>1</th>\n",
       "      <td>000201</td>\n",
       "      <td>1.0</td>\n",
       "      <td>LIDC-IDRI-0002</td>\n",
       "      <td>13</td>\n",
       "      <td>0002</td>\n",
       "      <td>1.0</td>\n",
       "      <td>1.00</td>\n",
       "      <td>1</td>\n",
       "      <td>1</td>\n",
       "      <td>0.000000</td>\n",
       "      <td>2</td>\n",
       "      <td>0</td>\n",
       "      <td>000201</td>\n",
       "      <td>train</td>\n",
       "      <td>000201.png</td>\n",
       "      <td>train/000201.png</td>\n",
       "      <td>/local_scratch/wamsterd/data/lidc/allnods2D/00...</td>\n",
       "    </tr>\n",
       "    <tr>\n",
       "      <th>2</th>\n",
       "      <td>000301</td>\n",
       "      <td>1.0</td>\n",
       "      <td>LIDC-IDRI-0003</td>\n",
       "      <td>14</td>\n",
       "      <td>0003</td>\n",
       "      <td>1.0</td>\n",
       "      <td>1.00</td>\n",
       "      <td>1</td>\n",
       "      <td>1</td>\n",
       "      <td>NaN</td>\n",
       "      <td>1</td>\n",
       "      <td>0</td>\n",
       "      <td>000301</td>\n",
       "      <td>train</td>\n",
       "      <td>000301.png</td>\n",
       "      <td>train/000301.png</td>\n",
       "      <td>/local_scratch/wamsterd/data/lidc/allnods2D/00...</td>\n",
       "    </tr>\n",
       "    <tr>\n",
       "      <th>3</th>\n",
       "      <td>000302</td>\n",
       "      <td>2.0</td>\n",
       "      <td>LIDC-IDRI-0003</td>\n",
       "      <td>14</td>\n",
       "      <td>0003</td>\n",
       "      <td>2.5</td>\n",
       "      <td>3.00</td>\n",
       "      <td>2</td>\n",
       "      <td>5</td>\n",
       "      <td>2.000000</td>\n",
       "      <td>4</td>\n",
       "      <td>1</td>\n",
       "      <td>000302</td>\n",
       "      <td>train</td>\n",
       "      <td>000302.png</td>\n",
       "      <td>train/000302.png</td>\n",
       "      <td>/local_scratch/wamsterd/data/lidc/allnods2D/00...</td>\n",
       "    </tr>\n",
       "    <tr>\n",
       "      <th>4</th>\n",
       "      <td>000303</td>\n",
       "      <td>3.0</td>\n",
       "      <td>LIDC-IDRI-0003</td>\n",
       "      <td>14</td>\n",
       "      <td>0003</td>\n",
       "      <td>1.5</td>\n",
       "      <td>1.50</td>\n",
       "      <td>1</td>\n",
       "      <td>2</td>\n",
       "      <td>0.333333</td>\n",
       "      <td>4</td>\n",
       "      <td>0</td>\n",
       "      <td>000303</td>\n",
       "      <td>train</td>\n",
       "      <td>000303.png</td>\n",
       "      <td>train/000303.png</td>\n",
       "      <td>/local_scratch/wamsterd/data/lidc/allnods2D/00...</td>\n",
       "    </tr>\n",
       "  </tbody>\n",
       "</table>\n",
       "</div>"
      ],
      "text/plain": [
       "  nodule_idx  nodule_number      patient_id scan_id patient_number  \\\n",
       "0     000101            1.0  LIDC-IDRI-0001      12           0001   \n",
       "1     000201            1.0  LIDC-IDRI-0002      13           0002   \n",
       "2     000301            1.0  LIDC-IDRI-0003      14           0003   \n",
       "3     000302            2.0  LIDC-IDRI-0003      14           0003   \n",
       "4     000303            3.0  LIDC-IDRI-0003      14           0003   \n",
       "\n",
       "   spiculation_median  spiculation_mean  spiculation_min  spiculation_max  \\\n",
       "0                 4.5              4.25                3                5   \n",
       "1                 1.0              1.00                1                1   \n",
       "2                 1.0              1.00                1                1   \n",
       "3                 2.5              3.00                2                5   \n",
       "4                 1.5              1.50                1                2   \n",
       "\n",
       "   spiculation_var  n_annotations_count  label      id  split    out_name  \\\n",
       "0         0.916667                    4      1  000101  train  000101.png   \n",
       "1         0.000000                    2      0  000201  train  000201.png   \n",
       "2              NaN                    1      0  000301  train  000301.png   \n",
       "3         2.000000                    4      1  000302  train  000302.png   \n",
       "4         0.333333                    4      0  000303  train  000303.png   \n",
       "\n",
       "            out_dir                                          orig_path  \n",
       "0  train/000101.png  /local_scratch/wamsterd/data/lidc/allnods2D/00...  \n",
       "1  train/000201.png  /local_scratch/wamsterd/data/lidc/allnods2D/00...  \n",
       "2  train/000301.png  /local_scratch/wamsterd/data/lidc/allnods2D/00...  \n",
       "3  train/000302.png  /local_scratch/wamsterd/data/lidc/allnods2D/00...  \n",
       "4  train/000303.png  /local_scratch/wamsterd/data/lidc/allnods2D/00...  "
      ]
     },
     "execution_count": 9,
     "metadata": {},
     "output_type": "execute_result"
    }
   ],
   "source": [
    "np.random.seed(12345)\n",
    "valid_prop = .0\n",
    "test_prop  = .2\n",
    "valid_size = int(len(ids) * valid_prop)\n",
    "test_size = int(len(ids) * test_prop)\n",
    "\n",
    "valid_ids = list(np.random.choice(ids, replace = False, size = valid_size))\n",
    "test_ids  = list(np.random.choice(list(set(ids) - set(valid_ids)), size = test_size))\n",
    "train_ids = list(set(ids) - (set(valid_ids +  test_ids)))\n",
    "split_dict = dict(zip(train_ids + valid_ids + test_ids,\n",
    "                     [\"train\"] *len(train_ids) + [\"valid\"]*len(valid_ids) + [\"test\"] * len(test_ids)))\n",
    "\n",
    "df[\"split\"] = df.id.map(split_dict)\n",
    "# print(df.split.value_counts())\n",
    "df[\"out_name\"] = df.id.apply(lambda x: x + FILE_EXT)\n",
    "# df[\"out_name\"] = df.apply(lambda x: x[\"pid\"] + \"_\" + x[\"voi_name\"] + FILE_EXT, axis = 1)\n",
    "df[\"out_dir\"] = df.apply(lambda x: os.path.join(x[\"split\"], x[\"out_name\"]), axis = 1)\n",
    "df[\"orig_path\"] = df.out_name.apply(lambda x: os.path.join(IMG_SOURCE_PATH, x))\n",
    "# df[\"label\"] = df.voi_name.apply(lambda x: int(bool(body_regex.match(x))))\n",
    "df.head()"
   ]
  },
  {
   "cell_type": "code",
   "execution_count": 10,
   "metadata": {},
   "outputs": [
    {
     "name": "stderr",
     "output_type": "stream",
     "text": [
      "2630it [00:00, 7826.81it/s]\n"
     ]
    }
   ],
   "source": [
    "if not os.path.isdir(IMG_DEST_PATH):\n",
    "    os.makedirs(IMG_DEST_PATH)\n",
    "    os.makedirs(os.path.join(IMG_DEST_PATH, \"train\"))\n",
    "#     os.makedirs(os.path.join(IMG_DEST_PATH, \"valid\"))\n",
    "    os.makedirs(os.path.join(IMG_DEST_PATH, \"test\"))\n",
    "\n",
    "    \n",
    "for i, row in tqdm(df.iterrows()):\n",
    "    in_path = row[\"orig_path\"]\n",
    "    out_path = os.path.join(IMG_DEST_PATH, row[\"split\"], row[\"out_name\"])\n",
    "    shutil.copy(in_path, out_path)"
   ]
  },
  {
   "cell_type": "code",
   "execution_count": 11,
   "metadata": {},
   "outputs": [],
   "source": [
    "# print(nodule_df.pivot_table(values = \"nodule_idx\", index = \"borderline\", columns = \"malignant\", aggfunc='count', fill_value = 0))\n",
    "# feather.write_dataframe(nodule_df, os.path.join(\"resources\", \"nodule_df.feather\"))\n",
    "df.to_csv(os.path.join(\"data\", \"labels.csv\"), index = False)"
   ]
  },
  {
   "cell_type": "code",
   "execution_count": null,
   "metadata": {},
   "outputs": [],
   "source": []
  }
 ],
 "metadata": {
  "kernelspec": {
   "display_name": "fastai180",
   "language": "python",
   "name": "fastai180"
  },
  "language_info": {
   "codemirror_mode": {
    "name": "ipython",
    "version": 3
   },
   "file_extension": ".py",
   "mimetype": "text/x-python",
   "name": "python",
   "nbconvert_exporter": "python",
   "pygments_lexer": "ipython3",
   "version": "3.6.6"
  }
 },
 "nbformat": 4,
 "nbformat_minor": 2
}
